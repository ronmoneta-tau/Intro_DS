{
  "cells": [
    {
      "cell_type": "markdown",
      "metadata": {},
      "source": [
        "Hi again!\n",
        "\n",
        "Here's some more detail to make sure you're comfortable running in VScode - for the case Colab has hiccups and for better development efficiency.\n",
        "1. Make sure python is installed on the machine; if not download and install using https://www.python.org/downloads/ or https://docs.anaconda.com/free/miniconda/\n",
        "1. File --> Open Folder --> choose the folder to which you download course's notebooks. You may want to save the workspace.\n",
        "1. Click a notebook (ipynb). VScode will guide you through installing python and jupyter plugins.\n",
        "1. ```[optional]``` Click \"python\" in top right corner --> select another kernel --> python environments --> create python environment --> venv --> create in your folder. Virtual environments are handy to have different package versions per different projects, avoiding messing with global python install, etc etc. \n",
        "1. ```[bonus]``` Educate yourself on how to:\n",
        "    1. Do the same venv **creation & activation** in command line (CLI) with either ```virtualenv``` (or ```conda```) commands, then ```.\\myenv\\Scripts\\activate```\n",
        "    1. Running a server,  ```pip/conda install jupyterlab``` then ```jupyterlab``` . \n",
        "    1. Connecting in VScode to venv created on CLI.  Connecting in either browser or VScode to server you ran from CLI.\n"
      ]
    },
    {
      "cell_type": "code",
      "execution_count": 7,
      "metadata": {},
      "outputs": [
        {
          "name": "stdout",
          "output_type": "stream",
          "text": [
            "Requirement already satisfied: numpy in c:\\users\\alexf\\documents\\teaching\\ds2023\\tutorials\\.venv\\lib\\site-packages (1.26.4)\n",
            "Requirement already satisfied: matplotlib in c:\\users\\alexf\\documents\\teaching\\ds2023\\tutorials\\.venv\\lib\\site-packages (3.9.0)\n",
            "Requirement already satisfied: pandas in c:\\users\\alexf\\documents\\teaching\\ds2023\\tutorials\\.venv\\lib\\site-packages (2.2.2)\n",
            "Requirement already satisfied: scikit-learn in c:\\users\\alexf\\documents\\teaching\\ds2023\\tutorials\\.venv\\lib\\site-packages (1.5.0)\n",
            "Requirement already satisfied: contourpy>=1.0.1 in c:\\users\\alexf\\documents\\teaching\\ds2023\\tutorials\\.venv\\lib\\site-packages (from matplotlib) (1.2.1)\n",
            "Requirement already satisfied: cycler>=0.10 in c:\\users\\alexf\\documents\\teaching\\ds2023\\tutorials\\.venv\\lib\\site-packages (from matplotlib) (0.12.1)\n",
            "Requirement already satisfied: fonttools>=4.22.0 in c:\\users\\alexf\\documents\\teaching\\ds2023\\tutorials\\.venv\\lib\\site-packages (from matplotlib) (4.52.4)\n",
            "Requirement already satisfied: kiwisolver>=1.3.1 in c:\\users\\alexf\\documents\\teaching\\ds2023\\tutorials\\.venv\\lib\\site-packages (from matplotlib) (1.4.5)\n",
            "Requirement already satisfied: packaging>=20.0 in c:\\users\\alexf\\documents\\teaching\\ds2023\\tutorials\\.venv\\lib\\site-packages (from matplotlib) (24.0)\n",
            "Requirement already satisfied: pillow>=8 in c:\\users\\alexf\\documents\\teaching\\ds2023\\tutorials\\.venv\\lib\\site-packages (from matplotlib) (10.3.0)\n",
            "Requirement already satisfied: pyparsing>=2.3.1 in c:\\users\\alexf\\documents\\teaching\\ds2023\\tutorials\\.venv\\lib\\site-packages (from matplotlib) (3.1.2)\n",
            "Requirement already satisfied: python-dateutil>=2.7 in c:\\users\\alexf\\documents\\teaching\\ds2023\\tutorials\\.venv\\lib\\site-packages (from matplotlib) (2.9.0.post0)\n",
            "Requirement already satisfied: pytz>=2020.1 in c:\\users\\alexf\\documents\\teaching\\ds2023\\tutorials\\.venv\\lib\\site-packages (from pandas) (2024.1)\n",
            "Requirement already satisfied: tzdata>=2022.7 in c:\\users\\alexf\\documents\\teaching\\ds2023\\tutorials\\.venv\\lib\\site-packages (from pandas) (2024.1)\n",
            "Requirement already satisfied: scipy>=1.6.0 in c:\\users\\alexf\\documents\\teaching\\ds2023\\tutorials\\.venv\\lib\\site-packages (from scikit-learn) (1.13.1)\n",
            "Requirement already satisfied: joblib>=1.2.0 in c:\\users\\alexf\\documents\\teaching\\ds2023\\tutorials\\.venv\\lib\\site-packages (from scikit-learn) (1.4.2)\n",
            "Requirement already satisfied: threadpoolctl>=3.1.0 in c:\\users\\alexf\\documents\\teaching\\ds2023\\tutorials\\.venv\\lib\\site-packages (from scikit-learn) (3.5.0)\n",
            "Requirement already satisfied: six>=1.5 in c:\\users\\alexf\\documents\\teaching\\ds2023\\tutorials\\.venv\\lib\\site-packages (from python-dateutil>=2.7->matplotlib) (1.16.0)\n",
            "Note: you may need to restart the kernel to use updated packages.\n"
          ]
        }
      ],
      "source": [
        "# Verify our packages are installed, using jupyter magic (%) to rule out discrepancy between the virtualenv addressed by terminal and the one used by notebook\n",
        "%pip install numpy matplotlib pandas scikit-learn"
      ]
    },
    {
      "cell_type": "markdown",
      "metadata": {
        "id": "-Kv98NXb5UJB"
      },
      "source": [
        "# <div dir=rtl> חבילות - numpy </div>\n",
        "\n"
      ]
    },
    {
      "cell_type": "code",
      "execution_count": 3,
      "metadata": {
        "id": "DuVxikzX5UJE"
      },
      "outputs": [],
      "source": [
        "import numpy as np"
      ]
    },
    {
      "cell_type": "code",
      "execution_count": 4,
      "metadata": {
        "colab": {
          "base_uri": "https://localhost:8080/"
        },
        "id": "ZyKABiN0E6Ts",
        "outputId": "90cbfd1f-0f36-4896-90a8-070e82a112cc"
      },
      "outputs": [
        {
          "data": {
            "text/plain": [
              "array([[0., 0., 0., 0.],\n",
              "       [0., 0., 0., 0.],\n",
              "       [0., 0., 0., 0.]])"
            ]
          },
          "execution_count": 4,
          "metadata": {},
          "output_type": "execute_result"
        }
      ],
      "source": [
        "x = np.zeros((3,4))\n",
        "x"
      ]
    },
    {
      "cell_type": "code",
      "execution_count": 5,
      "metadata": {
        "colab": {
          "base_uri": "https://localhost:8080/"
        },
        "id": "Ma84kfpr_m_n",
        "outputId": "93975f6b-4d3e-4b48-86fe-317fdf923098"
      },
      "outputs": [
        {
          "data": {
            "text/plain": [
              "array([[1., 1., 1., 1.],\n",
              "       [1., 1., 1., 1.],\n",
              "       [1., 1., 1., 1.]])"
            ]
          },
          "execution_count": 5,
          "metadata": {},
          "output_type": "execute_result"
        }
      ],
      "source": [
        "y=np.ones((3,4))\n",
        "y"
      ]
    },
    {
      "cell_type": "code",
      "execution_count": 6,
      "metadata": {
        "colab": {
          "base_uri": "https://localhost:8080/"
        },
        "id": "w_pm7wYzFL1g",
        "outputId": "14ed13c3-a61d-4b2b-e2cf-116cf31dacdf"
      },
      "outputs": [
        {
          "data": {
            "text/plain": [
              "array([[1., 0., 0.],\n",
              "       [0., 1., 0.],\n",
              "       [0., 0., 1.]])"
            ]
          },
          "execution_count": 6,
          "metadata": {},
          "output_type": "execute_result"
        }
      ],
      "source": [
        "x = np.eye(3)\n",
        "x"
      ]
    },
    {
      "cell_type": "code",
      "execution_count": 7,
      "metadata": {
        "colab": {
          "base_uri": "https://localhost:8080/"
        },
        "id": "L32p8eaKpt3S",
        "outputId": "96745884-659a-4e11-d672-8d610683db5a"
      },
      "outputs": [
        {
          "name": "stdout",
          "output_type": "stream",
          "text": [
            "2\n",
            "(3, 3)\n",
            "9\n"
          ]
        }
      ],
      "source": [
        "print(x.ndim)\n",
        "print(x.shape)\n",
        "print(x.size)"
      ]
    },
    {
      "cell_type": "markdown",
      "metadata": {
        "id": "Hfrf_5J-FSdD"
      },
      "source": [
        "<div dir=rtl> \n",
        "    לכל מטריצה יש פרמטר נוסף - dtype - הקובע אילו ערכים יכולים להיות בכל תא (\"מעל איזה שדה המטריצה מוגדרת\")\n",
        "</div>\n",
        "\n",
        " - np.int8\n",
        " - np.int16\n",
        " - np.int32\n",
        " - np.float32\n",
        " - np.bool_\n",
        " - np.string_ \n",
        " - np.object\n",
        " - ..."
      ]
    },
    {
      "cell_type": "code",
      "execution_count": 8,
      "metadata": {
        "colab": {
          "base_uri": "https://localhost:8080/"
        },
        "id": "9QC69NhZFXm9",
        "outputId": "33a69a18-3efe-4944-e85e-518a7f716322"
      },
      "outputs": [
        {
          "data": {
            "text/plain": [
              "dtype('float64')"
            ]
          },
          "execution_count": 8,
          "metadata": {},
          "output_type": "execute_result"
        }
      ],
      "source": [
        "x.dtype"
      ]
    },
    {
      "cell_type": "code",
      "execution_count": 9,
      "metadata": {
        "colab": {
          "base_uri": "https://localhost:8080/"
        },
        "id": "1G85vrPsSWQT",
        "outputId": "b9dc8393-e06a-433f-bd04-dbfc511593cf"
      },
      "outputs": [
        {
          "data": {
            "text/plain": [
              "(array([[1, 0, 0],\n",
              "        [0, 1, 0],\n",
              "        [0, 0, 1]]),\n",
              " dtype('float64'),\n",
              " dtype('int32'))"
            ]
          },
          "execution_count": 9,
          "metadata": {},
          "output_type": "execute_result"
        }
      ],
      "source": [
        "x_int = x.astype('int')\n",
        "x_int, x.dtype, x_int.dtype"
      ]
    },
    {
      "cell_type": "code",
      "execution_count": 10,
      "metadata": {
        "colab": {
          "base_uri": "https://localhost:8080/"
        },
        "id": "eguVOrdaR72t",
        "outputId": "e2ff49f7-acb8-4f99-a24e-a1b8df47dd6d"
      },
      "outputs": [
        {
          "data": {
            "text/plain": [
              "array([[None, None, None, None],\n",
              "       [None, None, None, None],\n",
              "       [None, None, None, None]], dtype=object)"
            ]
          },
          "execution_count": 10,
          "metadata": {},
          "output_type": "execute_result"
        }
      ],
      "source": [
        "y=np.empty((3,4), dtype=object)\n",
        "y"
      ]
    },
    {
      "cell_type": "code",
      "execution_count": 11,
      "metadata": {
        "colab": {
          "base_uri": "https://localhost:8080/"
        },
        "id": "UPqpflFejG1T",
        "outputId": "25c22036-4ece-46b0-89b0-d6cb1a4a4858"
      },
      "outputs": [
        {
          "data": {
            "text/plain": [
              "array([[list([1, 2, 3]), None, None, None],\n",
              "       ['blah', None, None, None],\n",
              "       [None, None, None, None]], dtype=object)"
            ]
          },
          "execution_count": 11,
          "metadata": {},
          "output_type": "execute_result"
        }
      ],
      "source": [
        "# This is a permissive-insertion matrix \n",
        "y[0,0] = [1,2,3]\n",
        "y[1,0] = 'blah'\n",
        "y"
      ]
    },
    {
      "cell_type": "markdown",
      "metadata": {
        "id": "T4p-M4RajR17"
      },
      "source": [
        "<div dir=rtl> \n",
        "לא ניתן לעדכן אינדקס במערך מסוג int עם אובייקט שהוא לא int\n",
        "</div>"
      ]
    },
    {
      "cell_type": "code",
      "execution_count": 12,
      "metadata": {
        "colab": {
          "base_uri": "https://localhost:8080/",
          "height": 287
        },
        "id": "MOgdSPIWR5vr",
        "outputId": "0d0597eb-00f5-44ac-faa5-260cd26577ef"
      },
      "outputs": [
        {
          "ename": "ValueError",
          "evalue": "could not convert string to float: 'rty'",
          "output_type": "error",
          "traceback": [
            "\u001b[1;31m---------------------------------------------------------------------------\u001b[0m",
            "\u001b[1;31mValueError\u001b[0m                                Traceback (most recent call last)",
            "Cell \u001b[1;32mIn[12], line 1\u001b[0m\n\u001b[1;32m----> 1\u001b[0m \u001b[43mx\u001b[49m\u001b[43m[\u001b[49m\u001b[38;5;241;43m0\u001b[39;49m\u001b[43m,\u001b[49m\u001b[38;5;241;43m0\u001b[39;49m\u001b[43m]\u001b[49m\u001b[38;5;241m=\u001b[39m\u001b[38;5;124m'\u001b[39m\u001b[38;5;124mrty\u001b[39m\u001b[38;5;124m'\u001b[39m      \u001b[38;5;66;03m# fails\u001b[39;00m\n\u001b[0;32m      2\u001b[0m \u001b[38;5;66;03m#x_int[0,0]='rty' # fails\u001b[39;00m\n\u001b[0;32m      3\u001b[0m \u001b[38;5;66;03m#x_int[0,0]='5'   # works. TODO: why? what happened?\u001b[39;00m\n",
            "\u001b[1;31mValueError\u001b[0m: could not convert string to float: 'rty'"
          ]
        }
      ],
      "source": [
        "x[0,0]='rty'      # fails\n",
        "#x_int[0,0]='rty' # fails\n",
        "#x_int[0,0]='5'   # works. TODO: why? what happened?"
      ]
    },
    {
      "cell_type": "markdown",
      "metadata": {
        "id": "iM9jDnR2FdWb"
      },
      "source": [
        "## <div dir=rtl> פעולות אלגבריות </div>\n",
        "<div dir=rtl>\n",
        "    כל הפעולות האלגבריות מאלגברה לינארית תקפות כאן, בתנאי שהן מוגדרות.\n",
        "</div>"
      ]
    },
    {
      "cell_type": "code",
      "execution_count": 13,
      "metadata": {
        "colab": {
          "base_uri": "https://localhost:8080/"
        },
        "id": "ZWLEZWya5UJF",
        "outputId": "84035aaf-4b48-4f28-f396-709698b01ed2"
      },
      "outputs": [
        {
          "data": {
            "text/plain": [
              "array([[1, 2, 3],\n",
              "       [4, 5, 6],\n",
              "       [7, 8, 9]])"
            ]
          },
          "execution_count": 13,
          "metadata": {},
          "output_type": "execute_result"
        }
      ],
      "source": [
        "x = np.array([1,2,3,4,5,6,7,8,9]).reshape((3,3))\n",
        "x"
      ]
    },
    {
      "cell_type": "code",
      "execution_count": 14,
      "metadata": {
        "colab": {
          "base_uri": "https://localhost:8080/"
        },
        "id": "nfavW_wtUtKU",
        "outputId": "654bafeb-2928-49e8-9292-306d866f0b7f"
      },
      "outputs": [
        {
          "data": {
            "text/plain": [
              "array([[1., 1., 1.],\n",
              "       [1., 1., 1.],\n",
              "       [1., 1., 1.],\n",
              "       [1., 1., 1.]])"
            ]
          },
          "execution_count": 14,
          "metadata": {},
          "output_type": "execute_result"
        }
      ],
      "source": [
        "x2= np.ones((4,3))\n",
        "x2"
      ]
    },
    {
      "cell_type": "code",
      "execution_count": 15,
      "metadata": {
        "colab": {
          "base_uri": "https://localhost:8080/",
          "height": 200
        },
        "id": "ykeP0qWFa7Hs",
        "outputId": "529d9441-af2e-43d2-f3bb-8354c9caf22e"
      },
      "outputs": [
        {
          "ename": "ValueError",
          "evalue": "shapes (3,3) and (4,3) not aligned: 3 (dim 1) != 4 (dim 0)",
          "output_type": "error",
          "traceback": [
            "\u001b[1;31m---------------------------------------------------------------------------\u001b[0m",
            "\u001b[1;31mValueError\u001b[0m                                Traceback (most recent call last)",
            "Cell \u001b[1;32mIn[15], line 1\u001b[0m\n\u001b[1;32m----> 1\u001b[0m \u001b[43mnp\u001b[49m\u001b[38;5;241;43m.\u001b[39;49m\u001b[43mdot\u001b[49m\u001b[43m(\u001b[49m\u001b[43mx\u001b[49m\u001b[43m,\u001b[49m\u001b[43mx2\u001b[49m\u001b[43m)\u001b[49m\n\u001b[0;32m      2\u001b[0m \u001b[38;5;66;03m# (3x3) x (4x3)\u001b[39;00m\n",
            "\u001b[1;31mValueError\u001b[0m: shapes (3,3) and (4,3) not aligned: 3 (dim 1) != 4 (dim 0)"
          ]
        }
      ],
      "source": [
        "np.dot(x,x2)\n",
        "# (3x3) x (4x3)"
      ]
    },
    {
      "cell_type": "markdown",
      "metadata": {
        "id": "d7NCbobdY00O"
      },
      "source": [
        "כמובן שזה לא מוגדר...."
      ]
    },
    {
      "cell_type": "code",
      "execution_count": 16,
      "metadata": {
        "colab": {
          "base_uri": "https://localhost:8080/"
        },
        "id": "gI6zBAmK5UJG",
        "outputId": "a50459cc-9a29-4b62-fdf1-953ffd3f8f75"
      },
      "outputs": [
        {
          "data": {
            "text/plain": [
              "array([[ 6.,  6.,  6.,  6.],\n",
              "       [15., 15., 15., 15.],\n",
              "       [24., 24., 24., 24.]])"
            ]
          },
          "execution_count": 16,
          "metadata": {},
          "output_type": "execute_result"
        }
      ],
      "source": [
        "np.dot(x, x2.T)\n",
        "# (3x3) x (3x4)"
      ]
    },
    {
      "cell_type": "markdown",
      "metadata": {
        "id": "B4ihvPmvb9j4"
      },
      "source": [
        "**np.dot():**\n",
        "\n",
        "If both a and b are 1-D arrays, it is inner product of vectors (without complex conjugation).\n",
        "\n",
        "If both a and b are 2-D arrays, it is matrix multiplication, but using matmul or a @ b is preferred.\n",
        "\n",
        "If either a or b is 0-D (scalar), it is equivalent to multiply and using numpy.multiply(a, b) or a * b is preferred."
      ]
    },
    {
      "cell_type": "code",
      "execution_count": 54,
      "metadata": {
        "id": "6_wgT-8MviI7"
      },
      "outputs": [
        {
          "data": {
            "text/plain": [
              "(array([[0.43027455, 0.30237347, 0.19019196, 0.67631684, 0.56788618],\n",
              "        [0.30237347, 0.21771857, 0.12982708, 0.50603392, 0.43333924],\n",
              "        [0.19019196, 0.12982708, 0.08687511, 0.27641643, 0.22591992],\n",
              "        [0.67631684, 0.50603392, 0.27641643, 1.24401546, 1.0942014 ],\n",
              "        [0.56788618, 0.43333924, 0.22591992, 1.0942014 , 0.97406183]]),\n",
              " array([[1.72908788, 1.3481003 ],\n",
              "        [1.3481003 , 1.22385763]]))"
            ]
          },
          "execution_count": 54,
          "metadata": {},
          "output_type": "execute_result"
        }
      ],
      "source": [
        "# np.dot?\n",
        "# np.matmul?\n",
        "x = np.random.random((2,5))\n",
        "x.T @ x, x @ x.T"
      ]
    },
    {
      "cell_type": "markdown",
      "metadata": {
        "id": "8vfG0SVm5UJG"
      },
      "source": [
        "## <div dir=rtl>  ווקטוריזציה ופונקציות אוניברסליות</div>\n",
        "<div dir=rtl>\n",
        "    שיטת תכנות בה מחליפים לולאות בפעולות על מטריצה נקראת ווקטוריזציה. <br />\n",
        "    פונקציות אוניברסליות (או ufunc) הן פונקציות אשר פועלות על כל אלמנט בנפרד. <br />\n",
        "    פעולות מטריציוניות ופונקציות אוניברסליות בנאמפיי ממומשות באופן מאוד יעיל ויכולות לחסוך זמן חישוב באופן משמעותי, עד כדי כך שחישובים מסויימים יכולים להיות בלתי אפשריים בלעדיהם.<br />\n",
        "    פונקציות אוניברסליות שימושיות:\n",
        "</div>\n",
        "\n",
        " - add/subtract ( + / - )\n",
        " - multiply ( .* )\n",
        " - divide ( ./ )\n",
        " - maximum\n",
        " - minimum\n",
        " - exp\n",
        " - power\n",
        " - ...\n",
        " \n",
        "https://docs.scipy.org/doc/numpy/reference/ufuncs.html#available-ufuncs\n",
        "\n"
      ]
    },
    {
      "cell_type": "markdown",
      "metadata": {},
      "source": [
        "\n",
        " <div dir=rtl>\n",
        "     במקביל, נכיר חבילה נוספת אשר מיועדת לשרטוט ולהצגה של גרפים.  <br />\n",
        "</div>"
      ]
    },
    {
      "cell_type": "code",
      "execution_count": 17,
      "metadata": {
        "id": "XWwwn66b5UJH"
      },
      "outputs": [],
      "source": [
        "import matplotlib.pyplot as plt"
      ]
    },
    {
      "cell_type": "code",
      "execution_count": 18,
      "metadata": {
        "colab": {
          "base_uri": "https://localhost:8080/",
          "height": 295
        },
        "id": "q7LC3aNc5UJH",
        "outputId": "26a01326-0422-4205-88f1-316534e3fd04"
      },
      "outputs": [
        {
          "data": {
            "image/png": "[encoded data removed]",
            "text/plain": [
              "<Figure size 1500x200 with 1 Axes>"
            ]
          },
          "metadata": {},
          "output_type": "display_data"
        }
      ],
      "source": [
        "plt.figure(figsize=(15, 2))\n",
        "x = np.arange(20)\n",
        "plt.plot(x, np.exp(-x))\n",
        "plt.xlabel('x')\n",
        "plt.ylabel('exp(x)')\n",
        "plt.title('A nice example of a ufunc to start with')\n",
        "plt.show()"
      ]
    },
    {
      "cell_type": "markdown",
      "metadata": {
        "id": "r4ls4VD25UJI"
      },
      "source": [
        "### <div dir=rtl> שאלה 1</div>\n",
        "<div dir=rtl>\n",
        "     ינאי החקלאי יצא אל השדה כדי לבחון מינים של אירוסים. הוא בחן 150 פרחי אירוס משלושה מינים שונים ועבורם מדד את אורך ורוחב עלי הגביע (sepal) ואת אורך ורוחב עלי הכותרת (petal). <br />\n",
        "    א. שרטטו דיאגרמת פיזור של כל פרט המתארת את אורך עלי הכותרת כתלות באורך עלי הגביע\n",
        "</div>"
      ]
    },
    {
      "cell_type": "code",
      "execution_count": 54,
      "metadata": {
        "colab": {
          "base_uri": "https://localhost:8080/"
        },
        "id": "VJqs6Tz35UJI",
        "outputId": "3a0f78c2-aeff-413c-c28d-f9bd96be49e6"
      },
      "outputs": [
        {
          "name": "stdout",
          "output_type": "stream",
          "text": [
            "<class 'sklearn.utils._bunch.Bunch'> <class 'numpy.ndarray'>\n",
            "(150, 4)\n",
            "['sepal length (cm)', 'sepal width (cm)', 'petal length (cm)', 'petal width (cm)']\n"
          ]
        }
      ],
      "source": [
        "from sklearn import datasets\n",
        "iris = datasets.load_iris()\n",
        "print(type(iris), type(iris.data))\n",
        "print(iris.data.shape)\n",
        "print(iris.feature_names)"
      ]
    },
    {
      "cell_type": "code",
      "execution_count": 33,
      "metadata": {
        "colab": {
          "base_uri": "https://localhost:8080/",
          "height": 614
        },
        "id": "rxvQMdLs5UJI",
        "outputId": "d3d71e40-cf3d-4272-b2bf-39727fae33b8"
      },
      "outputs": [
        {
          "data": {
            "image/png": "[encoded data removed]",
            "text/plain": [
              "<Figure size 1000x500 with 1 Axes>"
            ]
          },
          "metadata": {},
          "output_type": "display_data"
        }
      ],
      "source": [
        "plt.figure(figsize=(10, 5))\n",
        "# plot three variables of data with X, Y and Color:\n",
        "plt.scatter(iris.data[:,0], iris.data[:,2], c=iris.target)\n",
        "\n",
        "# TODO  could we avoid the 'magic' indices \"0\", \"2\"? can we have named columns?\n",
        "\n",
        "plt.xlabel(iris.feature_names[0], fontsize = 18)\n",
        "plt.ylabel(iris.feature_names[2], fontsize = 18)\n",
        "plt.show()"
      ]
    },
    {
      "cell_type": "markdown",
      "metadata": {
        "id": "en6B0sis6zOG"
      },
      "source": [
        "<div dir=rtl>\n",
        "אפשר להשתמש בפונקציה rcparams על מנת לקבע את ברירת המחדל של העיצוב\n",
        "\n",
        "https://matplotlib.org/stable/tutorials/introductory/customizing.html\n",
        "</div>"
      ]
    },
    {
      "cell_type": "code",
      "execution_count": 34,
      "metadata": {
        "id": "-B9VZOdw5UJI"
      },
      "outputs": [],
      "source": [
        "params = {'figure.figsize': (20, 10),\n",
        "         'axes.labelsize': 20,\n",
        "         'xtick.labelsize':8,\n",
        "         'ytick.labelsize':8}\n",
        "plt.rcParams.update(params)"
      ]
    },
    {
      "cell_type": "code",
      "execution_count": 35,
      "metadata": {
        "colab": {
          "base_uri": "https://localhost:8080/",
          "height": 631
        },
        "id": "kfxAiBzYJlrG",
        "outputId": "1671ec6e-4ea8-4789-c3af-fea669f0c7f1"
      },
      "outputs": [
        {
          "data": {
            "text/plain": [
              "Text(0, 0.5, 'petal length (cm)')"
            ]
          },
          "execution_count": 35,
          "metadata": {},
          "output_type": "execute_result"
        },
        {
          "data": {
            "image/png": "[encoded data removed]",
            "text/plain": [
              "<Figure size 1200x400 with 1 Axes>"
            ]
          },
          "metadata": {},
          "output_type": "display_data"
        }
      ],
      "source": [
        "plt.figure(figsize=(12,4))\n",
        "\n",
        "# Plot three variables (2 numerical, 1 categorical) using X, Y, color.\n",
        "# TODO think: can we draw 3 numericals? 4?  5? \n",
        "plt.scatter(iris.data[:,0], iris.data[:,2], c=iris.target)\n",
        "\n",
        "plt.xlabel(iris.feature_names[0])\n",
        "plt.ylabel(iris.feature_names[2])"
      ]
    },
    {
      "cell_type": "markdown",
      "metadata": {
        "id": "D8zX65Gu5UJJ"
      },
      "source": [
        "<div dir=rtl>\n",
        "     ב. בדרכו חזרה הבייתה נתקל ינאי בשלושה פרחי אירוס בערוגה. מיד מדד אותם ורשם במחברת. כך:\n",
        "</div>\n",
        "\n",
        "| sepal length (cm) | sepal width (cm) | petal length (cm) | petal width (cm) |\n",
        "|------|------|------|------|\n",
        "| 6.0 | 5.5 | 1.2 | 0.9 |\n",
        "| 6.2 | 0.5 | 2.3 | 9.0 |\n",
        "| 7.0 | 3.0 | 7.0 | 3.1 |\n",
        "\n",
        "<div dir=rtl>\n",
        "     מכיוון שהתוצאות שהתקבלו היו חריגות ינאי היה מבולבל. <br />\n",
        "    שרטטו גם את שלוש המדידות על דיאגרמת הפיזור וחשבו לכל מדידה את מרחקה בדיאגרמה מכל אחת מהמדידות האחרות.\n",
        "</div>"
      ]
    },
    {
      "cell_type": "code",
      "execution_count": 57,
      "metadata": {
        "id": "J2wgM6cf5UJJ"
      },
      "outputs": [],
      "source": [
        "plant_measurements = np.array([\n",
        "    [ 6.0 , 5.5 , 1.2 , 0.9 ],\n",
        "    [ 6.2 , 0.5 , 2.3 , 9.0 ],\n",
        "    [ 7.0 , 3.0 , 7.0 , 3.1 ]\n",
        "]\n",
        ")"
      ]
    },
    {
      "cell_type": "code",
      "execution_count": 37,
      "metadata": {
        "colab": {
          "base_uri": "https://localhost:8080/",
          "height": 614
        },
        "id": "qPUOrE_d5UJJ",
        "outputId": "311c9713-25fd-457b-94a3-094b9ee4e3a3"
      },
      "outputs": [
        {
          "data": {
            "image/png": "[encoded data removed]",
            "text/plain": [
              "<Figure size 1200x400 with 1 Axes>"
            ]
          },
          "metadata": {},
          "output_type": "display_data"
        }
      ],
      "source": [
        "plt.figure(figsize=(12,4))\n",
        "plt.scatter(iris.data[:,0], iris.data[:,2], c=iris.target)\n",
        "plt.scatter(plant_measurements[:,0], plant_measurements[:,2], marker='X', c='r', s=200)\n",
        "plt.xlabel('sepal length (cm)')\n",
        "plt.ylabel('petal length (cm)')\n",
        "plt.show()"
      ]
    },
    {
      "cell_type": "markdown",
      "metadata": {
        "id": "pBTxPxunAJzK"
      },
      "source": [
        "\n",
        "<div dir=rtl>\n",
        "    אנחנו מחשבים את המרחק כך:\n",
        "</div>\n",
        "\n",
        "$$ dist(x,y) = \\sqrt{\\sum_{d}^D{(x_d - y_d)^2 }} $$\n",
        "\n",
        "<div dir=rtl>\n",
        "    עבור מרחב בעל D מימדים. <br />"
      ]
    },
    {
      "cell_type": "markdown",
      "metadata": {
        "id": "KadqdbuB5UJJ"
      },
      "source": [
        "<div dir=rtl>\n",
        "    פתרון \"נאיבי\" - שתי לולאות. <br />\n",
        "    יקר חישובית אבל קל להבנה אינטואיטיבית:\n",
        "    \n",
        "</div>"
      ]
    },
    {
      "cell_type": "code",
      "execution_count": 27,
      "metadata": {
        "id": "wlBSoDsb5UJK"
      },
      "outputs": [],
      "source": [
        "def distance_two_loops(a, b):\n",
        "    '''\n",
        "    a:\n",
        "        numpy array [Nax2]\n",
        "    b:\n",
        "        numpy array [Nbx2]\n",
        "        \n",
        "    returns:\n",
        "        numpy array [NaxNb]\n",
        "    '''\n",
        "    \n",
        "    out = np.zeros((a.shape[0], b.shape[0]))\n",
        "    \n",
        "    for i_a in range(a.shape[0]):\n",
        "        for i_b in range(b.shape[0]):\n",
        "            dist_sq = np.power((a[i_a,:] - b[i_b,:]), 2).sum()\n",
        "            out[i_a,i_b] = dist_sq\n",
        "            \n",
        "    return np.sqrt(out)  # elementwise"
      ]
    },
    {
      "cell_type": "code",
      "execution_count": 28,
      "metadata": {
        "colab": {
          "base_uri": "https://localhost:8080/"
        },
        "id": "vXg25cPp5UJK",
        "outputId": "180f9b73-6a90-4741-8808-00df99249993"
      },
      "outputs": [
        {
          "data": {
            "text/plain": [
              "((150, 3),\n",
              " array([[0.92195445, 1.42126704, 5.91354378],\n",
              "        [1.11803399, 1.58113883, 5.98080262],\n",
              "        [1.30384048, 1.80277564, 6.14654374],\n",
              "        [1.43178211, 1.78885438, 6.00083328],\n",
              "        [1.0198039 , 1.5       , 5.9464275 ]]))"
            ]
          },
          "execution_count": 28,
          "metadata": {},
          "output_type": "execute_result"
        }
      ],
      "source": [
        "distances = distance_two_loops(iris.data[:,[0,2]], plant_measurements[:,[0,2]])\n",
        "distances.shape, distances[:5,:]\n"
      ]
    },
    {
      "cell_type": "markdown",
      "metadata": {
        "id": "tCIMuSOb5UJK"
      },
      "source": [
        "<div dir=rtl>\n",
        "    פתרנו את השאלה. נבדוק כמה זמן לוקח לפונקציה לרוץ.\n",
        "    \n",
        "</div>"
      ]
    },
    {
      "cell_type": "code",
      "execution_count": 29,
      "metadata": {
        "colab": {
          "base_uri": "https://localhost:8080/"
        },
        "id": "VKjzDnjO5UJK",
        "outputId": "8b40ff8c-ef23-4e42-95a5-000955d42267"
      },
      "outputs": [
        {
          "name": "stdout",
          "output_type": "stream",
          "text": [
            "2.9 ms ± 92.8 µs per loop (mean ± std. dev. of 7 runs, 100 loops each)\n"
          ]
        }
      ],
      "source": [
        "%timeit distance_two_loops(iris.data[:,[0,2]], plant_measurements[:,[0,2]])"
      ]
    },
    {
      "cell_type": "markdown",
      "metadata": {
        "id": "qc_m75qL5UJL"
      },
      "source": [
        "לכאורה לא הרבה זמן אבל מה היה קורה אם היה לנו אלף רשומות בדאטאסט? מליון?\n",
        "    לרוב יהיו לנו הרבה יותר רשומות לעבוד איתן ולכן תמיד ננסה לממש פיתרון בעזרת ויקטריזציה \n",
        " נרצה לפתור את המשוואה ישירות עם נאמפיי. במקרה הזה נצטרך לבצע מניפולציה על המערכים על מנת שנוכל להפעיל עליהם פעולת חיסור אחת בעזרת נאמפיי.  \n",
        "\n",
        " כדי להתמודד עם האתגר, נבצע אימון בזק על נושא הרחבת מימדים בנאמפיי ברמה בסיסית"
      ]
    },
    {
      "cell_type": "code",
      "execution_count": 51,
      "metadata": {},
      "outputs": [
        {
          "name": "stdout",
          "output_type": "stream",
          "text": [
            "(5, 3) (2, 5, 3) (2, 5, 3)\n",
            "(2, 5) (2, 5, 3)  * failed\n",
            "(2, 5, 1) (2, 5, 3) (2, 5, 3)\n"
          ]
        }
      ],
      "source": [
        "# BROADCASTING Sandbox (A)\n",
        "\n",
        "# TODO read about broadcasting: \n",
        "#      https://numpy.org/doc/stable/user/basics.broadcasting.html\n",
        "# NOTE the * is elementwise, NOT matrix multiplication\n",
        "# TODO understand how the code works\n",
        "# NOTE how we write automated tests that go over test cases list that can be grown \n",
        "# TODO add more shape combinations, see that you understand what works.\n",
        "\n",
        "for shape1, shape2 in [((5, 3), (2, 5, 3)),  \n",
        "                       ((2, 5), (2, 5, 3)),\n",
        "                       ((2, 5, 1), (2, 5, 3))]:\n",
        "    try:\n",
        "        a, b = np.random.randn(*shape1), np.random.randn(*shape2)\n",
        "        print(a.shape, b.shape, (a * b).shape)\n",
        "    except:\n",
        "        print(a.shape, b.shape, \" * failed\")\n",
        "\n",
        "# TODO what to do in the failed cases?"
      ]
    },
    {
      "cell_type": "markdown",
      "metadata": {},
      "source": [
        "ברודקסטינג הוא כמו קסטינג - שינוי משתנה\\ים כדי שהאופרציה תהיה מוגדרת\n",
        "\n",
        "מסקנה:  נאמפיי עושה מאמץ מירבי לפרש את הכוונות שלנו עפ סט חוקים סדור , \n",
        "לפעמים צריך (או לפחות רצוי) לעזור לו על-ידי הוספת מימדי דמי, בכדי שמספר המימדים יהיה זהה "
      ]
    },
    {
      "cell_type": "code",
      "execution_count": 52,
      "metadata": {},
      "outputs": [
        {
          "name": "stdout",
          "output_type": "stream",
          "text": [
            "A:  (3,) (3,) \n",
            " [1. 2. 3.]\n",
            "B:  (3, 1) (3, 1) \n",
            " [[1.]\n",
            " [2.]\n",
            " [3.]]\n",
            "C:  (1, 3) (1, 3) \n",
            " [[1. 2. 3.]]\n",
            "D:  (1, 3) (3, 1) \n",
            " [[1. 1. 1.]\n",
            " [2. 2. 2.]\n",
            " [3. 3. 3.]]\n"
          ]
        }
      ],
      "source": [
        "# BROADCASTING Sandbox (B) - helping it by \"adding dummy axes/dimensions\"\n",
        "\n",
        "a, b = np.ones(3), np.arange(3) \n",
        "print(\"A: \", a.shape, b.shape, '\\n', a+b)\n",
        "\n",
        "a, b = np.ones((3,1)), np.arange(3)[:, None]\n",
        "print(\"B: \", a.shape, b.shape, '\\n', a+b)\n",
        "\n",
        "a, b = np.ones((1,3)), np.arange(3)[None, :]\n",
        "print(\"C: \", a.shape, b.shape, '\\n', a+b)\n",
        "\n",
        "a, b = np.ones((1,3)), np.arange(3)[:, None]\n",
        "print(\"D: \", a.shape, b.shape, '\\n', a+b)\n"
      ]
    },
    {
      "cell_type": "markdown",
      "metadata": {},
      "source": [
        "בחזרה לתרגיל שלנו.\n",
        "\n",
        "נרחיב כל מטריצה באמצעות הוספת מימד במקום הנכון כך שנוכל לבצע את פעולת החיסור בין המטריצות:   \n",
        "\n",
        "הרחבת מימד כלומר הוספת מימד באורך 1, למשל:\n",
        "\n",
        " וקטור --> מטריצה של שורה\\עמודה בודדת, \n",
        "\n",
        "או מטריצה --> תיבה עם פרוסה בודדת"
      ]
    },
    {
      "cell_type": "code",
      "execution_count": 55,
      "metadata": {
        "colab": {
          "base_uri": "https://localhost:8080/"
        },
        "id": "s9jFraAy5UJL",
        "outputId": "01c9a142-cb4e-41c4-808e-25960b0704be"
      },
      "outputs": [
        {
          "name": "stdout",
          "output_type": "stream",
          "text": [
            "(150, 2)\n",
            "(150, 1, 2)\n",
            "(150, 1, 2)\n",
            "[[[5.1 1.4]]\n",
            "\n",
            " [[4.9 1.4]]\n",
            "\n",
            " [[4.7 1.3]]\n",
            "\n",
            " [[4.6 1.5]]\n",
            "\n",
            " [[5.  1.4]]]\n"
          ]
        }
      ],
      "source": [
        "# ! creating dummy axis at 1 \n",
        "print(iris.data[:,             [0,2]].shape)\n",
        "print(iris.data[:,  np.newaxis, [0,2]].shape)\n",
        "print(iris.data[:,  None,       [0,2]].shape)  # equivalent syntax\n",
        "print(iris.data[:5, np.newaxis, [0,2]])\n"
      ]
    },
    {
      "cell_type": "code",
      "execution_count": 31,
      "metadata": {
        "colab": {
          "base_uri": "https://localhost:8080/"
        },
        "id": "golPhNrJ5UJL",
        "outputId": "2b65a34c-432c-4882-d918-035b215f715a"
      },
      "outputs": [
        {
          "name": "stdout",
          "output_type": "stream",
          "text": [
            "(1, 3, 2)\n",
            "[[[6.  1.2]\n",
            "  [6.2 2.3]\n",
            "  [7.  7. ]]]\n"
          ]
        }
      ],
      "source": [
        "# ! creating dummy axis at 0\n",
        "print(plant_measurements[np.newaxis, :, [0,2]].shape)\n",
        "print(plant_measurements[np.newaxis, :, [0,2]])"
      ]
    },
    {
      "cell_type": "code",
      "execution_count": 58,
      "metadata": {
        "colab": {
          "base_uri": "https://localhost:8080/"
        },
        "id": "pGcVqeO-JbcZ",
        "outputId": "cf83c3da-5589-47ed-b38e-2a5aa1943f8b"
      },
      "outputs": [
        {
          "data": {
            "text/plain": [
              "(150, 3, 2)"
            ]
          },
          "execution_count": 58,
          "metadata": {},
          "output_type": "execute_result"
        }
      ],
      "source": [
        "# ! one-liner to create a (N x n x 2) tensor of dx,dy for all (o: 1..N=150, X: 1..n=3) pairs\n",
        "#   aka (N x n) matrix of  len-2 (x,y) vectors\n",
        "sub = iris.data[:, np.newaxis, [0,2]] - plant_measurements[np.newaxis, :, [0,2]]\n",
        "sub.shape"
      ]
    },
    {
      "cell_type": "markdown",
      "metadata": {
        "id": "PBomFHtA5UJL"
      },
      "source": [
        "TODO read about broadcasting:\n",
        "https://numpy.org/doc/stable/user/basics.broadcasting.html\n",
        "\n",
        "   האופרטורים של  תמיד יחפשו דרך שבה ניתן להביא את שני האופרנדים לאותו סט מימדים ע\"י פעולות \"מתבקשות\" כמו שכפול  (\"שידור רחב\")  לאורך הציר התואם. כן צריך לעזור למנגנון להבין מהם הצירים התואמים, ואת זה עשינו קודם\n",
        "\n",
        "   shapes: arr(shape=(X, 1, 2)) + arr(shape=(1, Y, 2)) --> arr(shape=(X, Y, 2))\n",
        "    \n",
        "    כל שנותר הוא להעלות בריבוע את ההפרש בכל ציר,\n",
        "     לסכום על הצירים כלומר על המימד השלישי ולהוציא שורש."
      ]
    },
    {
      "cell_type": "code",
      "execution_count": 39,
      "metadata": {
        "id": "yj8kpzV95UJL"
      },
      "outputs": [],
      "source": [
        "def distance_no_loops(a, b):\n",
        "    '''       \n",
        "    # TODO nice doc but how to improve func interface/API further?    \n",
        "    a: numpy array [Na x 2]\n",
        "    b: numpy array [Nb x 2]\n",
        "    \n",
        "    returns:\n",
        "        numpy array [Na x Nb]\n",
        "    '''\n",
        "    # Using intermediary tensor: (N x n) matrix of (x,y) len-2 vectors \n",
        "    # (TODO bonus: read about OUTER product vs. INNER product)\n",
        "    return ((a[:, np.newaxis, :] - b[np.newaxis, :, :])**2).sum(axis=2)**0.5\n",
        "     "
      ]
    },
    {
      "cell_type": "code",
      "execution_count": 40,
      "metadata": {
        "colab": {
          "base_uri": "https://localhost:8080/"
        },
        "id": "1GU_sxbT5UJL",
        "outputId": "31ad302f-7071-4f1b-cd7e-434de501fd6a"
      },
      "outputs": [
        {
          "name": "stdout",
          "output_type": "stream",
          "text": [
            "[[0.92195445 1.42126704 5.91354378]\n",
            " [1.11803399 1.58113883 5.98080262]\n",
            " [1.30384048 1.80277564 6.14654374]\n",
            " [1.43178211 1.78885438 6.00083328]\n",
            " [1.0198039  1.5        5.9464275 ]]\n"
          ]
        }
      ],
      "source": [
        "distances = distance_no_loops(iris.data[:,[0,2]], plant_measurements[:,[0,2]])\n",
        "print(distances[:5,:])"
      ]
    },
    {
      "cell_type": "code",
      "execution_count": 41,
      "metadata": {
        "colab": {
          "base_uri": "https://localhost:8080/"
        },
        "id": "MjUpPeYV5UJM",
        "outputId": "cb8c688f-4e78-463c-f530-93a8e1cc916e",
        "scrolled": true
      },
      "outputs": [
        {
          "name": "stdout",
          "output_type": "stream",
          "text": [
            "34.2 µs ± 1.54 µs per loop (mean ± std. dev. of 7 runs, 10,000 loops each)\n"
          ]
        }
      ],
      "source": [
        "%timeit distance_no_loops(iris.data[:,[0,2]], plant_measurements[:,[0,2]])\n",
        "# x100 !"
      ]
    },
    {
      "cell_type": "markdown",
      "metadata": {
        "id": "BbvQzmR85UJM"
      },
      "source": [
        "<div dir=rtl>\n",
        "    ג. מצאו את נקודת המדידה הקרובה ביותר מהשדה לכל אחד משלושת האירוסים בערוגה.\n",
        "</div>"
      ]
    },
    {
      "cell_type": "code",
      "execution_count": 42,
      "metadata": {
        "colab": {
          "base_uri": "https://localhost:8080/"
        },
        "id": "ULCUgze85UJM",
        "outputId": "95f23ea3-ae36-4979-f8a8-fdff5040eaff"
      },
      "outputs": [
        {
          "name": "stdout",
          "output_type": "stream",
          "text": [
            "distances.shape:  (150, 3)\n"
          ]
        },
        {
          "data": {
            "text/plain": [
              "array([ 14,  18, 118], dtype=int64)"
            ]
          },
          "execution_count": 42,
          "metadata": {},
          "output_type": "execute_result"
        }
      ],
      "source": [
        "print('distances.shape: ', distances.shape)\n",
        "minimum_dists_points_index = distances.argmin(axis=0)\n",
        "minimum_dists_points_index  # between 0 and 150"
      ]
    },
    {
      "cell_type": "code",
      "execution_count": 43,
      "metadata": {
        "colab": {
          "base_uri": "https://localhost:8080/"
        },
        "id": "WiBt1qGO5UJM",
        "outputId": "96014987-bbcf-4905-d802-c7998f44763e"
      },
      "outputs": [
        {
          "data": {
            "text/plain": [
              "array([[5.8, 4. , 1.2, 0.2],\n",
              "       [5.7, 3.8, 1.7, 0.3],\n",
              "       [7.7, 2.6, 6.9, 2.3]])"
            ]
          },
          "execution_count": 43,
          "metadata": {},
          "output_type": "execute_result"
        }
      ],
      "source": [
        "# NOTE numpy indexing using a variable - index array\n",
        "closest_points = iris.data[minimum_dists_points_index, :]\n",
        "closest_points"
      ]
    },
    {
      "cell_type": "code",
      "execution_count": 44,
      "metadata": {
        "colab": {
          "base_uri": "https://localhost:8080/",
          "height": 614
        },
        "id": "34EkGCMM5UJM",
        "outputId": "6dc6aa55-f281-466a-c6d5-b545f5a56902"
      },
      "outputs": [
        {
          "data": {
            "image/png": "[encoded data removed]",
            "text/plain": [
              "<Figure size 1200x400 with 1 Axes>"
            ]
          },
          "metadata": {},
          "output_type": "display_data"
        }
      ],
      "source": [
        "plt.figure(figsize=(12, 4))\n",
        "plt.scatter(iris.data[:,0], iris.data[:,2], c=iris.target)\n",
        "plt.scatter(plant_measurements[:,0], plant_measurements[:,2], marker='X', c='r', s=200)\n",
        "plt.scatter(closest_points[:,0], closest_points[:, 2], marker='x', c='k', s=200)\n",
        "plt.xlabel('sepal length (cm)')\n",
        "plt.ylabel('petal length (cm)')\n",
        "plt.show()\n",
        "# TODO think does it look a bit weird for one of the points?  WHY\n",
        "#       maybe gotta modify visualizaation?  maybe gotta modify distance metric? "
      ]
    },
    {
      "cell_type": "markdown",
      "metadata": {
        "id": "b8jQqg4O5UJM"
      },
      "source": [
        "# <div dir=rtl> Pandas </div>\n",
        "<div dir=rtl>\n",
        "    פנדס היא חבילה לdata science המיועדת לעבודה אופטימלית עם מידע טבלאי.  פנדס יעילה במיוחד בפעולות על מסדי נתונים בגדלים בינוניים (גיגות עד עשרות גיגות). פנדס נבנתה סביב נאמפיי לכן כל הכלים הקיימים בנאמפיי נמצאים בצורה מקבילה בפנדס וכמובן ישנם עוד הרבה כלים נוספים.\n",
        "</div>"
      ]
    },
    {
      "cell_type": "code",
      "execution_count": 39,
      "metadata": {},
      "outputs": [
        {
          "name": "stdout",
          "output_type": "stream",
          "text": [
            "Requirement already satisfied: pandas in c:\\users\\alexf\\documents\\teaching\\ds2023\\tutorials\\.venv\\lib\\site-packages (2.2.2)\n",
            "Requirement already satisfied: numpy>=1.23.2 in c:\\users\\alexf\\documents\\teaching\\ds2023\\tutorials\\.venv\\lib\\site-packages (from pandas) (1.26.4)\n",
            "Requirement already satisfied: python-dateutil>=2.8.2 in c:\\users\\alexf\\documents\\teaching\\ds2023\\tutorials\\.venv\\lib\\site-packages (from pandas) (2.9.0.post0)\n",
            "Requirement already satisfied: pytz>=2020.1 in c:\\users\\alexf\\documents\\teaching\\ds2023\\tutorials\\.venv\\lib\\site-packages (from pandas) (2024.1)\n",
            "Requirement already satisfied: tzdata>=2022.7 in c:\\users\\alexf\\documents\\teaching\\ds2023\\tutorials\\.venv\\lib\\site-packages (from pandas) (2024.1)\n",
            "Requirement already satisfied: six>=1.5 in c:\\users\\alexf\\documents\\teaching\\ds2023\\tutorials\\.venv\\lib\\site-packages (from python-dateutil>=2.8.2->pandas) (1.16.0)\n",
            "Note: you may need to restart the kernel to use updated packages.\n"
          ]
        }
      ],
      "source": [
        "%pip install pandas"
      ]
    },
    {
      "cell_type": "code",
      "execution_count": 46,
      "metadata": {
        "id": "k2cyNJ0h5UJM"
      },
      "outputs": [],
      "source": [
        "import pandas as pd"
      ]
    },
    {
      "cell_type": "markdown",
      "metadata": {
        "id": "iiLr0dOI5UJM"
      },
      "source": [
        "<div dir=rtl>\n",
        "    הערה: הסיומת as pd היא לנוחות בלבד. <br />\n",
        "    לפנדס שני אובייקטים עיקריים: Series ו DataFrame. האובייקט Series מייצג ווקטור של ערכים וDataFrame מטריצה.\n",
        "</div>"
      ]
    },
    {
      "cell_type": "code",
      "execution_count": 47,
      "metadata": {
        "colab": {
          "base_uri": "https://localhost:8080/"
        },
        "id": "kURK7buR5UJN",
        "outputId": "888368e0-3b41-446e-a762-e32d5db4901a"
      },
      "outputs": [
        {
          "data": {
            "text/plain": [
              "0     a\n",
              "1     b\n",
              "2    10\n",
              "3     d\n",
              "dtype: object"
            ]
          },
          "execution_count": 47,
          "metadata": {},
          "output_type": "execute_result"
        }
      ],
      "source": [
        "v = pd.Series(['a','b',10,'d'])\n",
        "v"
      ]
    },
    {
      "cell_type": "markdown",
      "metadata": {
        "id": "I5hjf2iW5UJN"
      },
      "source": [
        "<div dir=rtl>\n",
        "    נשים לב לשני דברים: לצד הערכים שהכנסנו יש אינדקס רץ. לכל ערך יש אינדקס. בסוף הווקטור מצוין מה ה dtype שלו.\n",
        "</div>"
      ]
    },
    {
      "cell_type": "code",
      "execution_count": 48,
      "metadata": {
        "colab": {
          "base_uri": "https://localhost:8080/",
          "height": 143
        },
        "id": "XXYY6mdk5UJN",
        "outputId": "316e0eb1-da1e-43d0-95ae-22f6790c3e39"
      },
      "outputs": [
        {
          "data": {
            "text/html": [
              "<div>\n",
              "<style scoped>\n",
              "    .dataframe tbody tr th:only-of-type {\n",
              "        vertical-align: middle;\n",
              "    }\n",
              "\n",
              "    .dataframe tbody tr th {\n",
              "        vertical-align: top;\n",
              "    }\n",
              "\n",
              "    .dataframe thead th {\n",
              "        text-align: right;\n",
              "    }\n",
              "</style>\n",
              "<table border=\"1\" class=\"dataframe\">\n",
              "  <thead>\n",
              "    <tr style=\"text-align: right;\">\n",
              "      <th></th>\n",
              "      <th>0</th>\n",
              "      <th>1</th>\n",
              "      <th>2</th>\n",
              "      <th>3</th>\n",
              "    </tr>\n",
              "  </thead>\n",
              "  <tbody>\n",
              "    <tr>\n",
              "      <th>0</th>\n",
              "      <td>a</td>\n",
              "      <td>b</td>\n",
              "      <td>c</td>\n",
              "      <td>d</td>\n",
              "    </tr>\n",
              "    <tr>\n",
              "      <th>1</th>\n",
              "      <td>A</td>\n",
              "      <td>B</td>\n",
              "      <td>C</td>\n",
              "      <td>D</td>\n",
              "    </tr>\n",
              "    <tr>\n",
              "      <th>2</th>\n",
              "      <td>alpha</td>\n",
              "      <td>beta</td>\n",
              "      <td>gamma</td>\n",
              "      <td>delta</td>\n",
              "    </tr>\n",
              "  </tbody>\n",
              "</table>\n",
              "</div>"
            ],
            "text/plain": [
              "       0     1      2      3\n",
              "0      a     b      c      d\n",
              "1      A     B      C      D\n",
              "2  alpha  beta  gamma  delta"
            ]
          },
          "execution_count": 48,
          "metadata": {},
          "output_type": "execute_result"
        }
      ],
      "source": [
        "df = pd.DataFrame([\n",
        "    ['a','b','c','d'],\n",
        "    ['A','B','C','D'],\n",
        "    ['alpha','beta','gamma','delta']\n",
        "])\n",
        "\n",
        "df"
      ]
    },
    {
      "cell_type": "markdown",
      "metadata": {
        "id": "J6xhi7875UJN"
      },
      "source": [
        "<div dir=rtl>\n",
        "    פנדס מאפשר מתן שמות הן לעמודות והן לאינדקסים.\n",
        "</div>"
      ]
    },
    {
      "cell_type": "code",
      "execution_count": 49,
      "metadata": {
        "colab": {
          "base_uri": "https://localhost:8080/",
          "height": 143
        },
        "id": "eR63_a9B5UJN",
        "outputId": "76bae954-0354-4d10-ed07-b31a43ca2d26"
      },
      "outputs": [
        {
          "data": {
            "text/html": [
              "<div>\n",
              "<style scoped>\n",
              "    .dataframe tbody tr th:only-of-type {\n",
              "        vertical-align: middle;\n",
              "    }\n",
              "\n",
              "    .dataframe tbody tr th {\n",
              "        vertical-align: top;\n",
              "    }\n",
              "\n",
              "    .dataframe thead th {\n",
              "        text-align: right;\n",
              "    }\n",
              "</style>\n",
              "<table border=\"1\" class=\"dataframe\">\n",
              "  <thead>\n",
              "    <tr style=\"text-align: right;\">\n",
              "      <th></th>\n",
              "      <th>Cause of illness</th>\n",
              "      <th>Time of admission</th>\n",
              "      <th>Temp (c)</th>\n",
              "      <th>Weight (kg)</th>\n",
              "    </tr>\n",
              "  </thead>\n",
              "  <tbody>\n",
              "    <tr>\n",
              "      <th>Luke</th>\n",
              "      <td>Sharp object accident</td>\n",
              "      <td>12:15:00</td>\n",
              "      <td>36.5</td>\n",
              "      <td>75</td>\n",
              "    </tr>\n",
              "    <tr>\n",
              "      <th>Gollum</th>\n",
              "      <td>Burns</td>\n",
              "      <td>04:53:00</td>\n",
              "      <td>38.1</td>\n",
              "      <td>32</td>\n",
              "    </tr>\n",
              "    <tr>\n",
              "      <th>Irony Man</th>\n",
              "      <td>Anemia</td>\n",
              "      <td>13:54:00</td>\n",
              "      <td>37.0</td>\n",
              "      <td>80</td>\n",
              "    </tr>\n",
              "  </tbody>\n",
              "</table>\n",
              "</div>"
            ],
            "text/plain": [
              "                Cause of illness Time of admission  Temp (c)  Weight (kg)\n",
              "Luke       Sharp object accident          12:15:00      36.5           75\n",
              "Gollum                     Burns          04:53:00      38.1           32\n",
              "Irony Man                 Anemia          13:54:00      37.0           80"
            ]
          },
          "execution_count": 49,
          "metadata": {},
          "output_type": "execute_result"
        }
      ],
      "source": [
        "df = pd.DataFrame([\n",
        "    ['Sharp object accident', pd.Timestamp('12:15').time(), 36.5,75],\n",
        "    ['Burns', pd.Timestamp('04:53').time(), 38.1,32],\n",
        "    ['Anemia', pd.Timestamp('13:54').time(), 37.0,80]\n",
        "],\n",
        "columns=['Cause of illness', 'Time of admission', 'Temp (c)', 'Weight (kg)'],\n",
        "index=['Luke', 'Gollum', 'Irony Man'])\n",
        "\n",
        "df\n",
        "# NOTE:  remember how we asked if we can have a numpy array with meaningful anmes for cloumns/rows?  inside the object not just as separate ones.."
      ]
    },
    {
      "cell_type": "code",
      "execution_count": 50,
      "metadata": {
        "colab": {
          "base_uri": "https://localhost:8080/"
        },
        "id": "nvesiN-DPYc7",
        "outputId": "83006c09-28c0-4f27-ace9-76386d777e9b"
      },
      "outputs": [
        {
          "data": {
            "text/plain": [
              "Luke         36.5\n",
              "Gollum       38.1\n",
              "Irony Man    37.0\n",
              "Name: Temp (c), dtype: float64"
            ]
          },
          "execution_count": 50,
          "metadata": {},
          "output_type": "execute_result"
        }
      ],
      "source": [
        "df['Temp (c)']\n",
        "# df['Luke']"
      ]
    },
    {
      "cell_type": "code",
      "execution_count": null,
      "metadata": {
        "colab": {
          "base_uri": "https://localhost:8080/",
          "height": 502
        },
        "id": "8NO93S0-PZbl",
        "outputId": "b190f881-ab76-4cca-ba2d-50fd71e17715"
      },
      "outputs": [],
      "source": []
    },
    {
      "cell_type": "markdown",
      "metadata": {
        "id": "oOGi2bll5UJN"
      },
      "source": [
        "<div dir=rtl>\n",
        "    ,אינדקסינג בפנדס מתאפשר בעיקר בזכות הפונקציה .loc <br />\n",
        "      הפונקציה מקבלת לייבל של אינדקס ועמודה או מערך בוליאני\n",
        "\n",
        "</div>\n",
        "\n",
        "https://towardsdatascience.com/conditional-selection-and-assignment-with-loc-in-pandas-2a5d17c7765b\n"
      ]
    },
    {
      "cell_type": "code",
      "execution_count": 46,
      "metadata": {
        "colab": {
          "base_uri": "https://localhost:8080/"
        },
        "id": "Q4334ccw5UJN",
        "outputId": "33e172f1-d633-426f-9c9a-b0964a3dd44c"
      },
      "outputs": [
        {
          "data": {
            "text/plain": [
              "Cause of illness     Sharp object accident\n",
              "Time of admission                 12:15:00\n",
              "Temp (c)                              36.5\n",
              "Weight (kg)                             75\n",
              "Name: Luke, dtype: object"
            ]
          },
          "execution_count": 46,
          "metadata": {},
          "output_type": "execute_result"
        }
      ],
      "source": [
        "df.loc['Luke']"
      ]
    },
    {
      "cell_type": "code",
      "execution_count": 47,
      "metadata": {
        "id": "-ULi8iG7gu_b"
      },
      "outputs": [
        {
          "data": {
            "text/plain": [
              "Cause of illness       Anemia\n",
              "Time of admission    13:54:00\n",
              "Temp (c)                 37.0\n",
              "Weight (kg)                80\n",
              "Name: Irony Man, dtype: object"
            ]
          },
          "execution_count": 47,
          "metadata": {},
          "output_type": "execute_result"
        }
      ],
      "source": [
        "# also possible to find just by running number with iloc\n",
        "df.iloc[2]"
      ]
    },
    {
      "cell_type": "code",
      "execution_count": 48,
      "metadata": {
        "colab": {
          "base_uri": "https://localhost:8080/"
        },
        "id": "QJbN3s7a0rUH",
        "outputId": "8847a590-3848-42d0-8da9-7b1136b89375"
      },
      "outputs": [
        {
          "data": {
            "text/plain": [
              "Luke         36.5\n",
              "Gollum       38.1\n",
              "Irony Man    37.0\n",
              "Name: Temp (c), dtype: float64"
            ]
          },
          "execution_count": 48,
          "metadata": {},
          "output_type": "execute_result"
        }
      ],
      "source": [
        "df.loc[:,'Temp (c)']"
      ]
    },
    {
      "cell_type": "code",
      "execution_count": 49,
      "metadata": {
        "colab": {
          "base_uri": "https://localhost:8080/",
          "height": 112
        },
        "id": "6wzMKP8ahKeh",
        "outputId": "c8184eaa-c5e8-4397-ec78-d98028867c0c"
      },
      "outputs": [
        {
          "data": {
            "text/html": [
              "<div>\n",
              "<style scoped>\n",
              "    .dataframe tbody tr th:only-of-type {\n",
              "        vertical-align: middle;\n",
              "    }\n",
              "\n",
              "    .dataframe tbody tr th {\n",
              "        vertical-align: top;\n",
              "    }\n",
              "\n",
              "    .dataframe thead th {\n",
              "        text-align: right;\n",
              "    }\n",
              "</style>\n",
              "<table border=\"1\" class=\"dataframe\">\n",
              "  <thead>\n",
              "    <tr style=\"text-align: right;\">\n",
              "      <th></th>\n",
              "      <th>Cause of illness</th>\n",
              "      <th>Time of admission</th>\n",
              "      <th>Temp (c)</th>\n",
              "      <th>Weight (kg)</th>\n",
              "    </tr>\n",
              "  </thead>\n",
              "  <tbody>\n",
              "    <tr>\n",
              "      <th>Gollum</th>\n",
              "      <td>Burns</td>\n",
              "      <td>04:53:00</td>\n",
              "      <td>38.1</td>\n",
              "      <td>32</td>\n",
              "    </tr>\n",
              "    <tr>\n",
              "      <th>Irony Man</th>\n",
              "      <td>Anemia</td>\n",
              "      <td>13:54:00</td>\n",
              "      <td>37.0</td>\n",
              "      <td>80</td>\n",
              "    </tr>\n",
              "  </tbody>\n",
              "</table>\n",
              "</div>"
            ],
            "text/plain": [
              "          Cause of illness Time of admission  Temp (c)  Weight (kg)\n",
              "Gollum               Burns          04:53:00      38.1           32\n",
              "Irony Man           Anemia          13:54:00      37.0           80"
            ]
          },
          "execution_count": 49,
          "metadata": {},
          "output_type": "execute_result"
        }
      ],
      "source": [
        "df.loc[df.index!='Luke']\n"
      ]
    },
    {
      "cell_type": "code",
      "execution_count": 50,
      "metadata": {
        "colab": {
          "base_uri": "https://localhost:8080/",
          "height": 112
        },
        "id": "f39QVYcGhSSc",
        "outputId": "6217efa4-a8b2-4681-953b-74ebfdc93caf"
      },
      "outputs": [
        {
          "data": {
            "text/html": [
              "<div>\n",
              "<style scoped>\n",
              "    .dataframe tbody tr th:only-of-type {\n",
              "        vertical-align: middle;\n",
              "    }\n",
              "\n",
              "    .dataframe tbody tr th {\n",
              "        vertical-align: top;\n",
              "    }\n",
              "\n",
              "    .dataframe thead th {\n",
              "        text-align: right;\n",
              "    }\n",
              "</style>\n",
              "<table border=\"1\" class=\"dataframe\">\n",
              "  <thead>\n",
              "    <tr style=\"text-align: right;\">\n",
              "      <th></th>\n",
              "      <th>Cause of illness</th>\n",
              "      <th>Time of admission</th>\n",
              "      <th>Temp (c)</th>\n",
              "      <th>Weight (kg)</th>\n",
              "    </tr>\n",
              "  </thead>\n",
              "  <tbody>\n",
              "    <tr>\n",
              "      <th>Gollum</th>\n",
              "      <td>Burns</td>\n",
              "      <td>04:53:00</td>\n",
              "      <td>38.1</td>\n",
              "      <td>32</td>\n",
              "    </tr>\n",
              "    <tr>\n",
              "      <th>Irony Man</th>\n",
              "      <td>Anemia</td>\n",
              "      <td>13:54:00</td>\n",
              "      <td>37.0</td>\n",
              "      <td>80</td>\n",
              "    </tr>\n",
              "  </tbody>\n",
              "</table>\n",
              "</div>"
            ],
            "text/plain": [
              "          Cause of illness Time of admission  Temp (c)  Weight (kg)\n",
              "Gollum               Burns          04:53:00      38.1           32\n",
              "Irony Man           Anemia          13:54:00      37.0           80"
            ]
          },
          "execution_count": 50,
          "metadata": {},
          "output_type": "execute_result"
        }
      ],
      "source": [
        "df.loc[df['Temp (c)']>=37]\n"
      ]
    },
    {
      "cell_type": "markdown",
      "metadata": {
        "id": "3u4_UBbbgx8Y"
      },
      "source": [
        "<div dir=rtl>\n",
        "   לא ניתן לפנות באמצעות loc לאינדקסים נומריים  <br />\n",
        "      \n",
        "\n",
        "</div>"
      ]
    },
    {
      "cell_type": "markdown",
      "metadata": {
        "id": "xkUqtxHShHYN"
      },
      "source": [
        "<div dir=rtl>\n",
        "   אבל כן אפשר לפנות לאינדקסים נומריים באמצעות iloc  <br />\n",
        "      \n",
        "\n",
        "</div>"
      ]
    },
    {
      "cell_type": "code",
      "execution_count": 52,
      "metadata": {
        "colab": {
          "base_uri": "https://localhost:8080/",
          "height": 502
        },
        "id": "dIHlwPDIfUiG",
        "outputId": "0cb5d702-1c3b-4d9f-e2e7-603f8e685803"
      },
      "outputs": [
        {
          "data": {
            "text/plain": [
              "75"
            ]
          },
          "execution_count": 52,
          "metadata": {},
          "output_type": "execute_result"
        }
      ],
      "source": [
        "#df.loc[0,3]\n",
        "df.iloc[0,3]\n"
      ]
    },
    {
      "cell_type": "markdown",
      "metadata": {
        "id": "jJuzCrB05UJO"
      },
      "source": [
        "<div dir=rtl>\n",
        "    יכולת חשובה של פנדס היא היכולת לקרוא ולכתוב אובייקטים לקבצים. <br />\n",
        "    יש המון סוגי קבצים נתמכים, בניהם:\n",
        "</div>\n",
        "\n",
        " - Excel\n",
        " - JSON\n",
        " - Pickle\n",
        " - SQL\n",
        " - CSV\n",
        " - ...\n",
        " \n",
        "https://pandas.pydata.org/pandas-docs/stable/user_guide/io.html\n",
        "\n",
        "<div dir=rtl>\n",
        "    נקח את CSV כדוגמה. הסיומת CSV, או comma separated values, מציינת קובץ טקסט המכיל מידע טבלאי. הפורמט הוא פורמט פתוח - לכן זמין לתצוגה בשלל של תוכנות (כולל כתבן ואקסל) - הוא נוח לקריאה אנושית גם בצורה הטקסטואלית שלו ונוח לכתיבה אנושית בפורמט הטקסטואלי שלו. החסרונות - אין שום דחיסה של המידע, עיצוב של התאים השונים לא נשמר בתוך הקובץ לכן יעלם אחרי טעינה מחדש, זמני הכתיבה והקריאה של קבצים מהסוג הזה יחסית ארוכים ומידע נשמר אך ורק בפורמט טקסט. <br />\n",
        "    נדגים: <br />\n",
        "    הטבלה למעלה בפורמט CSV בכתבן תהיה\n",
        "</div>\n"
      ]
    },
    {
      "cell_type": "raw",
      "metadata": {
        "id": "rNHk-a_a5UJO"
      },
      "source": [
        ",Cause of illness,Time of admission,Temp (c),Weight (kg)\n",
        "Luke,Sharp object accident,12:15:00,36.5,75\n",
        "Gollum,Burns,04:53:00,38.1,32\n",
        "Irony Man,Anemia,13:54:00,37.0,80"
      ]
    },
    {
      "attachments": {
        "image.png": {
          "image/png": "[encoded data removed]"
        }
      },
      "cell_type": "markdown",
      "metadata": {
        "id": "oWzlPtmj5UJO"
      },
      "source": [
        "<div dir=rtl>\n",
        "    ובאקסל היא תיראה כך:\n",
        "</div>\n",
        "\n",
        "![image.png](attachment:image.png)"
      ]
    },
    {
      "cell_type": "code",
      "execution_count": 53,
      "metadata": {
        "id": "CHJH0bmQ5UJO"
      },
      "outputs": [],
      "source": [
        "df.to_csv('2.df.csv')"
      ]
    },
    {
      "cell_type": "markdown",
      "metadata": {},
      "source": [
        "פאנדאס מאפשר לכתוב וכמובן גם לקרוא קבצים טבלאיים, מה שמאפשר תקשורת קלה בין פייתון לאקסל"
      ]
    },
    {
      "cell_type": "code",
      "execution_count": 54,
      "metadata": {
        "colab": {
          "base_uri": "https://localhost:8080/",
          "height": 143
        },
        "id": "HoF3nDrm5UJO",
        "outputId": "a1929618-19c4-46b4-a891-f2bfe14eb7b0"
      },
      "outputs": [
        {
          "data": {
            "text/html": [
              "<div>\n",
              "<style scoped>\n",
              "    .dataframe tbody tr th:only-of-type {\n",
              "        vertical-align: middle;\n",
              "    }\n",
              "\n",
              "    .dataframe tbody tr th {\n",
              "        vertical-align: top;\n",
              "    }\n",
              "\n",
              "    .dataframe thead th {\n",
              "        text-align: right;\n",
              "    }\n",
              "</style>\n",
              "<table border=\"1\" class=\"dataframe\">\n",
              "  <thead>\n",
              "    <tr style=\"text-align: right;\">\n",
              "      <th></th>\n",
              "      <th>Cause of illness</th>\n",
              "      <th>Time of admission</th>\n",
              "      <th>Temp (c)</th>\n",
              "      <th>Weight (kg)</th>\n",
              "    </tr>\n",
              "  </thead>\n",
              "  <tbody>\n",
              "    <tr>\n",
              "      <th>Luke</th>\n",
              "      <td>Sharp object accident</td>\n",
              "      <td>12:15:00</td>\n",
              "      <td>36.5</td>\n",
              "      <td>75</td>\n",
              "    </tr>\n",
              "    <tr>\n",
              "      <th>Gollum</th>\n",
              "      <td>Burns</td>\n",
              "      <td>04:53:00</td>\n",
              "      <td>38.1</td>\n",
              "      <td>32</td>\n",
              "    </tr>\n",
              "    <tr>\n",
              "      <th>Irony Man</th>\n",
              "      <td>Anemia</td>\n",
              "      <td>13:54:00</td>\n",
              "      <td>37.0</td>\n",
              "      <td>80</td>\n",
              "    </tr>\n",
              "  </tbody>\n",
              "</table>\n",
              "</div>"
            ],
            "text/plain": [
              "                Cause of illness Time of admission  Temp (c)  Weight (kg)\n",
              "Luke       Sharp object accident          12:15:00      36.5           75\n",
              "Gollum                     Burns          04:53:00      38.1           32\n",
              "Irony Man                 Anemia          13:54:00      37.0           80"
            ]
          },
          "execution_count": 54,
          "metadata": {},
          "output_type": "execute_result"
        }
      ],
      "source": [
        "df2 = pd.read_csv('2.df.csv', index_col=0)\n",
        "df2"
      ]
    }
  ],
  "metadata": {
    "colab": {
      "provenance": []
    },
    "kernelspec": {
      "display_name": "Python 3",
      "language": "python",
      "name": "python3"
    },
    "language_info": {
      "codemirror_mode": {
        "name": "ipython",
        "version": 3
      },
      "file_extension": ".py",
      "mimetype": "text/x-python",
      "name": "python",
      "nbconvert_exporter": "python",
      "pygments_lexer": "ipython3",
      "version": "3.11.9"
    }
  },
  "nbformat": 4,
  "nbformat_minor": 0
}
